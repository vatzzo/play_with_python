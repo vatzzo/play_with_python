{
 "metadata": {
  "language_info": {
   "codemirror_mode": {
    "name": "ipython",
    "version": 3
   },
   "file_extension": ".py",
   "mimetype": "text/x-python",
   "name": "python",
   "nbconvert_exporter": "python",
   "pygments_lexer": "ipython3",
   "version": "3.9.0-final"
  },
  "orig_nbformat": 2,
  "kernelspec": {
   "name": "python3",
   "display_name": "Python 3"
  }
 },
 "nbformat": 4,
 "nbformat_minor": 2,
 "cells": [
  {
   "cell_type": "code",
   "execution_count": 1,
   "metadata": {},
   "outputs": [],
   "source": [
    "import pandas as pd\n",
    "import numpy as np\n",
    "from numpy import nan as NaN\n",
    "from sklearn.impute import KNNImputer\n",
    "from sklearn.decomposition import PCA\n",
    "import matplotlib.pyplot as plt\n",
    "\n",
    "# I\n",
    "#Importing files\n",
    "covid = pd.read_excel(\"./DATA/covid19.xlsx\")\n",
    "temperature = pd.read_excel(\"./DATA/temperature.xls\", sheet_name=\"Country_temperatureCRU\")\n",
    "population_density = pd.read_excel(\"./DATA/population_density.xls\", sheet_name='Data')\n",
    "population_65 = pd.read_excel(\"./DATA/population_65.xls\", sheet_name='Data')\n",
    "pkb = pd.read_excel(\"./DATA/pkb.xls\", sheet_name='Data')\n",
    "medics = pd.read_excel(\"./DATA/medics.xls\", sheet_name='Data')\n",
    "beds = pd.read_excel(\"./DATA/beds.xls\", sheet_name='Data')\n",
    "air_pollution = pd.read_excel(\"./DATA/air_pollution.xls\", sheet_name='Data')\n",
    "accidents = pd.read_excel(\"./DATA/accidents.xls\", sheet_name='Data')"
   ]
  },
  {
   "cell_type": "code",
   "execution_count": 2,
   "metadata": {},
   "outputs": [],
   "source": [
    "# STANDARIZATION OF COLUM NAMES\n",
    "temperature = temperature.rename(columns={'ISO_3DIGIT':'country_id', 'Sept_temp':'temp_sep', 'Oct_temp':'temp_oct'})\n",
    "pkb = pkb.rename(columns={'World Development Indicators' : 'country_id','Unnamed: 63' : 'pkb'})\n",
    "beds = beds.rename(columns={'World Development Indicators' : 'country_id','Unnamed: 55' : 'beds'})\n",
    "medics = medics.rename(columns={'World Development Indicators' : 'country_id','Unnamed: 61' : 'medics'})\n",
    "population_65 = population_65.rename(columns={'World Development Indicators' : 'country_id','Unnamed: 63' : 'above_65'})\n",
    "population_density = population_density.rename(columns={'World Development Indicators' : 'country_id','Unnamed: 62' : 'population_density'})\n",
    "accidents = accidents.rename(columns={'World Development Indicators' : 'country_id','Unnamed: 60' : 'accidents'})\n",
    "air_pollution = air_pollution.rename(columns={'World Development Indicators' : 'country_id','Unnamed: 61' : 'air_pollution'})"
   ]
  },
  {
   "cell_type": "code",
   "execution_count": 3,
   "metadata": {},
   "outputs": [],
   "source": [
    "    # CASES, DEATHS\n",
    "# Choosing Data from September and October\n",
    "covid_from_september = covid[(covid[\"year\"] == 2020) & (covid[\"month\"] >= 9)]\n",
    "covid_from_october = covid_from_september[(covid_from_september[\"month\"] >= 10)]\n",
    "\n",
    "\n",
    "\n",
    "# Sum Cases and Deaths\n",
    "deaths_and_cases_from_september = covid_from_september.groupby(\"countriesAndTerritories\").sum()\n",
    "deaths_and_cases_from_september = deaths_and_cases_from_september[[\"deaths\", \"cases\"]]\n",
    "deaths_and_cases_from_september.rename(columns={\"deaths\" : \"deaths_from_sep\", \"cases\" : \"cases_from_sep\"}, inplace=True)\n",
    "deaths_and_cases_from_september.reset_index(inplace=True)\n",
    "\n",
    "deaths_and_cases_from_october = covid_from_october.groupby(\"countriesAndTerritories\").sum()\n",
    "deaths_and_cases_from_october = deaths_and_cases_from_october[[\"deaths\", \"cases\"]]\n",
    "deaths_and_cases_from_october.rename(columns={\"deaths\" : \"deaths_from_oct\", \"cases\" : \"cases_from_oct\"}, inplace=True)\n",
    "deaths_and_cases_from_october.reset_index(inplace=True)"
   ]
  },
  {
   "cell_type": "code",
   "execution_count": 4,
   "metadata": {
    "tags": []
   },
   "outputs": [],
   "source": [
    "# PREPARE THE FINAL DATA FRAME\n",
    "covid_data = covid[[\"countriesAndTerritories\", \"geoId\", \"countryterritoryCode\", \"continentExp\", \"popData2019\"]]\n",
    "covid_data = covid_data.drop_duplicates().reset_index(drop=True)\n",
    "    # Removing empty row\n",
    "# covid_data.drop(37, axis=0, inplace=True)\n",
    "# covid_data.reset_index(drop=True, inplace=True)\n",
    "covid_data.rename(columns = \n",
    "{\"countriesAndTerritories\" : \"country\", \"geoId\" : \"geo_id\", \"countryterritoryCode\" : \"country_id\", \"continentExp\" : \"continent\", \"popData2019\" : \"population\" }, inplace=True)\n",
    "\n"
   ]
  },
  {
   "cell_type": "code",
   "execution_count": 5,
   "metadata": {},
   "outputs": [],
   "source": [
    "# NORMALIZED CASES AND DEATHS\n",
    "death_and_cases_from_september_per_100k = deaths_and_cases_from_september[[\"deaths_from_sep\", \"cases_from_sep\"]].multiply(100000)\n",
    "death_and_cases_from_september_per_100k = death_and_cases_from_september_per_100k[[\"deaths_from_sep\", \"cases_from_sep\"]].div(covid_data[\"population\"], axis=0)\n",
    "death_and_cases_from_september_per_100k.rename(columns={\"deaths_from_sep\":\"deaths_from_sep_per_100k\", \"cases_from_sep\":\"cases_from_sep_per_100k\"}, inplace=True)\n",
    "\n",
    "\n",
    "incident_rate = deaths_and_cases_from_october\n",
    "incident_rate.rename(columns={\"deaths_from_oct\":\"incident_rate_deaths\", \"cases_from_oct\":\"incident_rate_cases\"}, inplace=True)\n",
    "incident_rate[\"incident_rate_deaths\"] = incident_rate[\"incident_rate_deaths\"].div(deaths_and_cases_from_september[\"deaths_from_sep\"]).multiply(100)\n",
    "incident_rate[\"incident_rate_cases\"] = incident_rate[\"incident_rate_cases\"].div(deaths_and_cases_from_september[\"cases_from_sep\"]).multiply(100)\n",
    "incident_rate = incident_rate.drop([\"countriesAndTerritories\"], axis=1)\n"
   ]
  },
  {
   "cell_type": "code",
   "execution_count": 6,
   "metadata": {},
   "outputs": [],
   "source": [
    "# APPEND TO FINAL DATA FRAME\n",
    "covid_data = covid_data.join(death_and_cases_from_september_per_100k)\n",
    "covid_data = covid_data.join(incident_rate)"
   ]
  },
  {
   "cell_type": "code",
   "execution_count": 7,
   "metadata": {},
   "outputs": [],
   "source": [
    "def search_by_country_id(countries_df, file_df, mod_df, col_entry):\n",
    "    for code in countries_df:\n",
    "        location = file_df.loc[file_df[\"country_id\"] == code, [\"country_id\", col_entry]]\n",
    "        if location.empty == True:\n",
    "            mod_df = mod_df.append(pd.Series([code, NaN], index=[\"country_id\", col_entry]), ignore_index = True)\n",
    "        else:\n",
    "            mod_df = mod_df.append(location)\n",
    "    return mod_df[col_entry].to_numpy()"
   ]
  },
  {
   "cell_type": "code",
   "execution_count": 8,
   "metadata": {},
   "outputs": [],
   "source": [
    "# ADD TEMPERATURE\n",
    "temp_data = pd.DataFrame(columns=[\"country_id\", \"temp_sep\", \"temp_oct\"])\n",
    "temp_sep = search_by_country_id(covid_data[\"country_id\"], temperature, temp_data, \"temp_sep\")\n",
    "temp_oct = search_by_country_id(covid_data[\"country_id\"], temperature, temp_data, \"temp_oct\")\n",
    "temp_data = {\n",
    "    \"temp_sep\" : temp_sep,\n",
    "    \"temp_oct\" : temp_oct\n",
    "}\n",
    "temp_data = pd.DataFrame(temp_data)\n",
    "covid_data = covid_data.join(temp_data)"
   ]
  },
  {
   "cell_type": "code",
   "execution_count": 9,
   "metadata": {},
   "outputs": [],
   "source": [
    "# ADD POPULATION DENSITY\n",
    "population_density_data = pd.DataFrame(columns=[\"country_id\", \"population_density\"])\n",
    "pop_den = search_by_country_id(covid_data[\"country_id\"], population_density, population_density_data, \"population_density\")\n",
    "population_density_data = {\n",
    "    \"population_density\": pop_den\n",
    "}\n",
    "population_density_data = pd.DataFrame(population_density_data)\n",
    "covid_data = covid_data.join(population_density_data)\n"
   ]
  },
  {
   "cell_type": "code",
   "execution_count": 10,
   "metadata": {},
   "outputs": [],
   "source": [
    "# ADD POPULATION ABOVE 65\n",
    "population_65_data = pd.DataFrame(columns=[\"country_id\", \"above_65\"])\n",
    "pop_65 = search_by_country_id(covid_data[\"country_id\"], population_65, population_65_data, \"above_65\")\n",
    "population_65_data = {\n",
    "    \"above_65\": pop_65\n",
    "}\n",
    "population_65_data = pd.DataFrame(population_65_data)\n",
    "covid_data = covid_data.join(population_65_data)"
   ]
  },
  {
   "cell_type": "code",
   "execution_count": 11,
   "metadata": {},
   "outputs": [],
   "source": [
    "# ADD PKB\n",
    "pkb_data = pd.DataFrame(columns=[\"country_id\", \"pkb\"])\n",
    "pkb_o = search_by_country_id(covid_data[\"country_id\"], pkb, pkb_data, \"pkb\")\n",
    "pkb_data = {\n",
    "    \"pkb\" : pkb_o\n",
    "}\n",
    "pkb_data = pd.DataFrame(pkb_data)\n",
    "covid_data = covid_data.join(pkb_data)"
   ]
  },
  {
   "cell_type": "code",
   "execution_count": 12,
   "metadata": {},
   "outputs": [],
   "source": [
    "# MEDICS\n",
    "medics_data = pd.DataFrame(columns=[\"country_id\", \"medics\"])\n",
    "med = search_by_country_id(covid_data[\"country_id\"], medics, medics_data, \"medics\")\n",
    "medics_data = {\n",
    "    \"medics\" : med\n",
    "}\n",
    "medics_data = pd.DataFrame(medics_data)\n",
    "covid_data = covid_data.join(medics_data)"
   ]
  },
  {
   "cell_type": "code",
   "execution_count": 13,
   "metadata": {},
   "outputs": [],
   "source": [
    "# BEDS\n",
    "beds_data = pd.DataFrame(columns=[\"country_id\", \"beds\"])\n",
    "beds_o = search_by_country_id(covid_data[\"country_id\"], beds, beds_data, \"beds\")\n",
    "beds_data = {\n",
    "    \"beds\" : beds_o\n",
    "}\n",
    "beds_data = pd.DataFrame(beds_data)\n",
    "covid_data = covid_data.join(beds_data)"
   ]
  },
  {
   "cell_type": "code",
   "execution_count": 14,
   "metadata": {},
   "outputs": [],
   "source": [
    "# AIR POLLUTION \n",
    "air_pollution_data = pd.DataFrame(columns=[\"country_id\", \"air_pollution\"])\n",
    "air_pol = search_by_country_id(covid_data[\"country_id\"], air_pollution, air_pollution_data, \"air_pollution\")\n",
    "air_pollution_data = {\n",
    "    \"air_pollution\" : air_pol\n",
    "}\n",
    "air_pollution_data = pd.DataFrame(air_pollution_data)\n",
    "covid_data = covid_data.join(air_pollution_data)"
   ]
  },
  {
   "cell_type": "code",
   "execution_count": 15,
   "metadata": {},
   "outputs": [],
   "source": [
    "# ACCIDENTS\n",
    "accidents_data = pd.DataFrame(columns=[\"country_id\", \"accidents\"])\n",
    "acc = search_by_country_id(covid_data[\"country_id\"], accidents, accidents_data, \"accidents\")\n",
    "accidents_data = {\n",
    "    \"accidents\" : acc\n",
    "}\n",
    "accidents_data = pd.DataFrame(accidents_data)\n",
    "covid_data = covid_data.join(accidents_data)"
   ]
  },
  {
   "cell_type": "code",
   "execution_count": 16,
   "metadata": {},
   "outputs": [],
   "source": [
    "# II\n",
    "# BASIC STATISTICS\n",
    "missing_values = covid_data.isnull().sum()\n",
    "missing_values.name = 'missing_values'\n",
    "data_stat = pd.DataFrame(missing_values)\n",
    "\n",
    "max_values = covid_data.max(numeric_only=True)\n",
    "max_values.name = 'max_values'\n",
    "max_values = pd.DataFrame(max_values)\n",
    "data_stat = data_stat.join(max_values)\n",
    "\n",
    "min_values = covid_data.min(numeric_only=True)\n",
    "min_values.name = 'min_values'\n",
    "min_values = pd.DataFrame(min_values)\n",
    "data_stat = data_stat.join(min_values)\n",
    "\n",
    "mean_values = covid_data.mean(skipna=True, numeric_only=True)\n",
    "mean_values.name = \"mean_values\"\n",
    "mean_values = pd.DataFrame(mean_values)\n",
    "data_stat = data_stat.join(mean_values)\n",
    "\n",
    "median_values = covid_data.median(numeric_only=True)\n",
    "median_values.name = \"median_values\"\n",
    "median_values = pd.DataFrame(median_values)\n",
    "data_stat = data_stat.join(median_values)\n",
    "\n",
    "std_deviation_values = covid_data.std(numeric_only=True)\n",
    "std_deviation_values.name = \"std_deviation_values\"\n",
    "std_deviation_values = pd.DataFrame(std_deviation_values)\n",
    "data_stat = data_stat.join(std_deviation_values)\n"
   ]
  },
  {
   "cell_type": "code",
   "execution_count": 17,
   "metadata": {
    "tags": []
   },
   "outputs": [],
   "source": [
    "#  k-Nearest Neighbour\n",
    "covid_data_kkn = covid_data.iloc[0::,4::]\n",
    "column_names = covid_data_kkn.columns\n",
    "covid_data_kkn = covid_data_kkn.to_numpy()\n",
    "imputer = KNNImputer(n_neighbors=3)\n",
    "covid_data_kkn = imputer.fit_transform(covid_data_kkn)\n",
    "covid_data_kkn = pd.DataFrame(covid_data_kkn)\n",
    "covid_data_kkn.columns = column_names\n",
    "covid_data_kkn = covid_data.iloc[0::, 0:4].join(covid_data_kkn)"
   ]
  },
  {
   "cell_type": "code",
   "execution_count": 18,
   "metadata": {
    "tags": []
   },
   "outputs": [],
   "source": [
    "std_dev = data_stat['std_deviation_values']\n",
    "mean_values = data_stat['mean_values']\n",
    "sigma = mean_values + (std_dev * 3)\n",
    "sigma = pd.DataFrame(sigma).dropna(how=\"all\")\n",
    "covid_data_sub = covid_data.iloc[0::,4::]\n",
    "covid_data_sub_col = covid_data_sub.columns.tolist()\n",
    "\n",
    "for column in covid_data_sub_col:\n",
    "    for item in range(0, covid_data_sub.shape[0]):\n",
    "        if covid_data_sub[column][item] <= sigma[0][column]:\n",
    "            covid_data_sub[column][item] = NaN\n",
    "\n",
    "covid_data_sub = covid_data_sub.dropna(how=\"all\")\n"
   ]
  }
 ]
}